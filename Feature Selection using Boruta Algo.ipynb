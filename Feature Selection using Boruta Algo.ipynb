{
 "cells": [
  {
   "cell_type": "code",
   "execution_count": 1,
   "id": "bccc0468",
   "metadata": {},
   "outputs": [],
   "source": [
    "import pandas as pd\n",
    "import numpy as np\n",
    "### make X and y\n",
    "X = pd.DataFrame({'age': [25, 32, 47, 51, 62],\n",
    "                  'height': [182, 176, 174, 168, 181],\n",
    "                  'weight': [75, 71, 78, 72, 86]})\n",
    "y = pd.Series([20, 32, 45, 55, 61], name = 'income')\n",
    "\n",
    "\n"
   ]
  },
  {
   "cell_type": "code",
   "execution_count": 2,
   "id": "dbe638b5",
   "metadata": {
    "scrolled": false
   },
   "outputs": [
    {
     "data": {
      "text/plain": [
       "0    20\n",
       "1    32\n",
       "2    45\n",
       "3    55\n",
       "4    61\n",
       "Name: income, dtype: int64"
      ]
     },
     "execution_count": 2,
     "metadata": {},
     "output_type": "execute_result"
    }
   ],
   "source": [
    "y"
   ]
  },
  {
   "cell_type": "code",
   "execution_count": 21,
   "id": "39dd5633",
   "metadata": {},
   "outputs": [
    {
     "data": {
      "text/html": [
       "<div>\n",
       "<style scoped>\n",
       "    .dataframe tbody tr th:only-of-type {\n",
       "        vertical-align: middle;\n",
       "    }\n",
       "\n",
       "    .dataframe tbody tr th {\n",
       "        vertical-align: top;\n",
       "    }\n",
       "\n",
       "    .dataframe thead th {\n",
       "        text-align: right;\n",
       "    }\n",
       "</style>\n",
       "<table border=\"1\" class=\"dataframe\">\n",
       "  <thead>\n",
       "    <tr style=\"text-align: right;\">\n",
       "      <th></th>\n",
       "      <th>A</th>\n",
       "      <th>B</th>\n",
       "      <th>C</th>\n",
       "    </tr>\n",
       "  </thead>\n",
       "  <tbody>\n",
       "  </tbody>\n",
       "</table>\n",
       "</div>"
      ],
      "text/plain": [
       "Empty DataFrame\n",
       "Columns: [A, B, C]\n",
       "Index: []"
      ]
     },
     "execution_count": 21,
     "metadata": {},
     "output_type": "execute_result"
    }
   ],
   "source": [
    "z=pd.DataFrame(columns=['A','B'])\n",
    "z['C']=5\n",
    "z"
   ]
  },
  {
   "cell_type": "code",
   "execution_count": 22,
   "id": "acc23465",
   "metadata": {},
   "outputs": [],
   "source": [
    "#### import numpy as np\n",
    "### make X_shadow by randomly permuting each column of X\n",
    "np.random.seed(42)\n",
    "X_shadow = X.apply(np.random.permutation)\n",
    "X_shadow.columns = ['shadow_' + feat for feat in X.columns]\n",
    "### make X_boruta by appending X_shadow to X\n",
    "X_boruta = pd.concat([X, X_shadow], axis = 1)"
   ]
  },
  {
   "cell_type": "code",
   "execution_count": 23,
   "id": "64a77c80",
   "metadata": {},
   "outputs": [],
   "source": [
    "from sklearn.ensemble import RandomForestRegressor\n",
    "### fit a random forest (suggested max_depth between 3 and 7)\n",
    "forest = RandomForestRegressor(max_depth = 5, random_state = 42)\n",
    "forest.fit(X_boruta, y)\n",
    "### store feature importances\n",
    "feat_imp_X = forest.feature_importances_[:len(X.columns)]\n",
    "feat_imp_shadow = forest.feature_importances_[len(X.columns):]\n",
    "### compute hits\n",
    "hits = feat_imp_X > feat_imp_shadow.max()\n"
   ]
  },
  {
   "cell_type": "code",
   "execution_count": 24,
   "id": "cd749b42",
   "metadata": {},
   "outputs": [],
   "source": [
    "# for i,name in enumerate(X.columns):\n",
    "#     if hits[i]:\n",
    "#         print(f\"{str(name)}\")"
   ]
  },
  {
   "cell_type": "code",
   "execution_count": 25,
   "id": "50031dae",
   "metadata": {},
   "outputs": [],
   "source": [
    "### initialize hits counter\n",
    "hits = np.zeros((len(X.columns)))\n",
    "### repeat 20 times\n",
    "for iter_ in range(20):\n",
    "   ### make X_shadow by randomly permuting each column of X\n",
    "   np.random.seed(iter_)\n",
    "   X_shadow = X.apply(np.random.permutation)\n",
    "   X_boruta = pd.concat([X, X_shadow], axis = 1)\n",
    "   ### fit a random forest (suggested max_depth between 3 and 7)\n",
    "   forest = RandomForestRegressor(max_depth = 5, random_state = 42)\n",
    "   forest.fit(X_boruta, y)\n",
    "   ### store feature importance\n",
    "   feat_imp_X = forest.feature_importances_[:len(X.columns)]\n",
    "   feat_imp_shadow = forest.feature_importances_[len(X.columns):]\n",
    "   ### compute hits for this trial and add to counter\n",
    "   hits += (feat_imp_X > feat_imp_shadow.max())"
   ]
  },
  {
   "cell_type": "code",
   "execution_count": 26,
   "id": "926e880f",
   "metadata": {},
   "outputs": [
    {
     "data": {
      "text/plain": [
       "array([18.,  5.,  0.])"
      ]
     },
     "execution_count": 26,
     "metadata": {},
     "output_type": "execute_result"
    }
   ],
   "source": [
    "hits"
   ]
  },
  {
   "cell_type": "code",
   "execution_count": 27,
   "id": "90206136",
   "metadata": {},
   "outputs": [],
   "source": [
    "import scipy as sp\n",
    "trials = 20\n",
    "pmf = [sp.stats.binom.pmf(x, trials, .5) for x in range(trials + 1)]"
   ]
  },
  {
   "cell_type": "code",
   "execution_count": 28,
   "id": "d056cad2",
   "metadata": {},
   "outputs": [
    {
     "data": {
      "text/plain": [
       "[<matplotlib.lines.Line2D at 0x17fb12370>]"
      ]
     },
     "execution_count": 28,
     "metadata": {},
     "output_type": "execute_result"
    },
    {
     "data": {
      "image/png": "[encoded data removed]",
      "text/plain": [
       "<Figure size 432x288 with 1 Axes>"
      ]
     },
     "metadata": {
      "needs_background": "light"
     },
     "output_type": "display_data"
    }
   ],
   "source": [
    "import matplotlib.pyplot as plt\n",
    "plt.plot(pmf)"
   ]
  },
  {
   "cell_type": "code",
   "execution_count": 3,
   "id": "f762e073",
   "metadata": {},
   "outputs": [
    {
     "ename": "AttributeError",
     "evalue": "module 'numpy' has no attribute 'int'.\n`np.int` was a deprecated alias for the builtin `int`. To avoid this error in existing code, use `int` by itself. Doing this will not modify any behavior and is safe. When replacing `np.int`, you may wish to use e.g. `np.int64` or `np.int32` to specify the precision. If you wish to review your current use, check the release note link for additional information.\nThe aliases was originally deprecated in NumPy 1.20; for more details and guidance see the original release note at:\n    https://numpy.org/devdocs/release/1.20.0-notes.html#deprecations",
     "output_type": "error",
     "traceback": [
      "\u001b[0;31m---------------------------------------------------------------------------\u001b[0m",
      "\u001b[0;31mAttributeError\u001b[0m                            Traceback (most recent call last)",
      "Input \u001b[0;32mIn [3]\u001b[0m, in \u001b[0;36m<module>\u001b[0;34m\u001b[0m\n\u001b[1;32m      9\u001b[0m boruta \u001b[38;5;241m=\u001b[39m BorutaPy(\n\u001b[1;32m     10\u001b[0m    estimator \u001b[38;5;241m=\u001b[39m forest, \n\u001b[1;32m     11\u001b[0m    n_estimators \u001b[38;5;241m=\u001b[39m \u001b[38;5;124m'\u001b[39m\u001b[38;5;124mauto\u001b[39m\u001b[38;5;124m'\u001b[39m,\n\u001b[1;32m     12\u001b[0m    max_iter \u001b[38;5;241m=\u001b[39m \u001b[38;5;241m100\u001b[39m \u001b[38;5;66;03m# number of trials to perform\u001b[39;00m\n\u001b[1;32m     13\u001b[0m )\n\u001b[1;32m     14\u001b[0m \u001b[38;5;66;03m### fit Boruta (it accepts np.array, not pd.DataFrame)\u001b[39;00m\n\u001b[0;32m---> 15\u001b[0m \u001b[43mboruta\u001b[49m\u001b[38;5;241;43m.\u001b[39;49m\u001b[43mfit\u001b[49m\u001b[43m(\u001b[49m\u001b[43mnp\u001b[49m\u001b[38;5;241;43m.\u001b[39;49m\u001b[43marray\u001b[49m\u001b[43m(\u001b[49m\u001b[43mX\u001b[49m\u001b[43m)\u001b[49m\u001b[43m,\u001b[49m\u001b[43m \u001b[49m\u001b[43mnp\u001b[49m\u001b[38;5;241;43m.\u001b[39;49m\u001b[43marray\u001b[49m\u001b[43m(\u001b[49m\u001b[43my\u001b[49m\u001b[43m)\u001b[49m\u001b[43m)\u001b[49m\n\u001b[1;32m     16\u001b[0m \u001b[38;5;66;03m### print results\u001b[39;00m\n\u001b[1;32m     17\u001b[0m green_area \u001b[38;5;241m=\u001b[39m X\u001b[38;5;241m.\u001b[39mcolumns[boruta\u001b[38;5;241m.\u001b[39msupport_]\u001b[38;5;241m.\u001b[39mto_list()\n",
      "File \u001b[0;32m/opt/homebrew/lib/python3.9/site-packages/boruta/boruta_py.py:201\u001b[0m, in \u001b[0;36mBorutaPy.fit\u001b[0;34m(self, X, y)\u001b[0m\n\u001b[1;32m    188\u001b[0m \u001b[38;5;28;01mdef\u001b[39;00m \u001b[38;5;21mfit\u001b[39m(\u001b[38;5;28mself\u001b[39m, X, y):\n\u001b[1;32m    189\u001b[0m     \u001b[38;5;124;03m\"\"\"\u001b[39;00m\n\u001b[1;32m    190\u001b[0m \u001b[38;5;124;03m    Fits the Boruta feature selection with the provided estimator.\u001b[39;00m\n\u001b[1;32m    191\u001b[0m \n\u001b[0;32m   (...)\u001b[0m\n\u001b[1;32m    198\u001b[0m \u001b[38;5;124;03m        The target values.\u001b[39;00m\n\u001b[1;32m    199\u001b[0m \u001b[38;5;124;03m    \"\"\"\u001b[39;00m\n\u001b[0;32m--> 201\u001b[0m     \u001b[38;5;28;01mreturn\u001b[39;00m \u001b[38;5;28;43mself\u001b[39;49m\u001b[38;5;241;43m.\u001b[39;49m\u001b[43m_fit\u001b[49m\u001b[43m(\u001b[49m\u001b[43mX\u001b[49m\u001b[43m,\u001b[49m\u001b[43m \u001b[49m\u001b[43my\u001b[49m\u001b[43m)\u001b[49m\n",
      "File \u001b[0;32m/opt/homebrew/lib/python3.9/site-packages/boruta/boruta_py.py:260\u001b[0m, in \u001b[0;36mBorutaPy._fit\u001b[0;34m(self, X, y)\u001b[0m\n\u001b[1;32m    255\u001b[0m _iter \u001b[38;5;241m=\u001b[39m \u001b[38;5;241m1\u001b[39m\n\u001b[1;32m    256\u001b[0m \u001b[38;5;66;03m# holds the decision about each feature:\u001b[39;00m\n\u001b[1;32m    257\u001b[0m \u001b[38;5;66;03m# 0  - default state = tentative in original code\u001b[39;00m\n\u001b[1;32m    258\u001b[0m \u001b[38;5;66;03m# 1  - accepted in original code\u001b[39;00m\n\u001b[1;32m    259\u001b[0m \u001b[38;5;66;03m# -1 - rejected in original code\u001b[39;00m\n\u001b[0;32m--> 260\u001b[0m dec_reg \u001b[38;5;241m=\u001b[39m np\u001b[38;5;241m.\u001b[39mzeros(n_feat, dtype\u001b[38;5;241m=\u001b[39m\u001b[43mnp\u001b[49m\u001b[38;5;241;43m.\u001b[39;49m\u001b[43mint\u001b[49m)\n\u001b[1;32m    261\u001b[0m \u001b[38;5;66;03m# counts how many times a given feature was more important than\u001b[39;00m\n\u001b[1;32m    262\u001b[0m \u001b[38;5;66;03m# the best of the shadow features\u001b[39;00m\n\u001b[1;32m    263\u001b[0m hit_reg \u001b[38;5;241m=\u001b[39m np\u001b[38;5;241m.\u001b[39mzeros(n_feat, dtype\u001b[38;5;241m=\u001b[39mnp\u001b[38;5;241m.\u001b[39mint)\n",
      "File \u001b[0;32m/opt/homebrew/lib/python3.9/site-packages/numpy/__init__.py:305\u001b[0m, in \u001b[0;36m__getattr__\u001b[0;34m(attr)\u001b[0m\n\u001b[1;32m    300\u001b[0m     warnings\u001b[38;5;241m.\u001b[39mwarn(\n\u001b[1;32m    301\u001b[0m         \u001b[38;5;124mf\u001b[39m\u001b[38;5;124m\"\u001b[39m\u001b[38;5;124mIn the future `np.\u001b[39m\u001b[38;5;132;01m{\u001b[39;00mattr\u001b[38;5;132;01m}\u001b[39;00m\u001b[38;5;124m` will be defined as the \u001b[39m\u001b[38;5;124m\"\u001b[39m\n\u001b[1;32m    302\u001b[0m         \u001b[38;5;124m\"\u001b[39m\u001b[38;5;124mcorresponding NumPy scalar.\u001b[39m\u001b[38;5;124m\"\u001b[39m, \u001b[38;5;167;01mFutureWarning\u001b[39;00m, stacklevel\u001b[38;5;241m=\u001b[39m\u001b[38;5;241m2\u001b[39m)\n\u001b[1;32m    304\u001b[0m \u001b[38;5;28;01mif\u001b[39;00m attr \u001b[38;5;129;01min\u001b[39;00m __former_attrs__:\n\u001b[0;32m--> 305\u001b[0m     \u001b[38;5;28;01mraise\u001b[39;00m \u001b[38;5;167;01mAttributeError\u001b[39;00m(__former_attrs__[attr])\n\u001b[1;32m    307\u001b[0m \u001b[38;5;66;03m# Importing Tester requires importing all of UnitTest which is not a\u001b[39;00m\n\u001b[1;32m    308\u001b[0m \u001b[38;5;66;03m# cheap import Since it is mainly used in test suits, we lazy import it\u001b[39;00m\n\u001b[1;32m    309\u001b[0m \u001b[38;5;66;03m# here to save on the order of 10 ms of import time for most users\u001b[39;00m\n\u001b[1;32m    310\u001b[0m \u001b[38;5;66;03m#\u001b[39;00m\n\u001b[1;32m    311\u001b[0m \u001b[38;5;66;03m# The previous way Tester was imported also had a side effect of adding\u001b[39;00m\n\u001b[1;32m    312\u001b[0m \u001b[38;5;66;03m# the full `numpy.testing` namespace\u001b[39;00m\n\u001b[1;32m    313\u001b[0m \u001b[38;5;28;01mif\u001b[39;00m attr \u001b[38;5;241m==\u001b[39m \u001b[38;5;124m'\u001b[39m\u001b[38;5;124mtesting\u001b[39m\u001b[38;5;124m'\u001b[39m:\n",
      "\u001b[0;31mAttributeError\u001b[0m: module 'numpy' has no attribute 'int'.\n`np.int` was a deprecated alias for the builtin `int`. To avoid this error in existing code, use `int` by itself. Doing this will not modify any behavior and is safe. When replacing `np.int`, you may wish to use e.g. `np.int64` or `np.int32` to specify the precision. If you wish to review your current use, check the release note link for additional information.\nThe aliases was originally deprecated in NumPy 1.20; for more details and guidance see the original release note at:\n    https://numpy.org/devdocs/release/1.20.0-notes.html#deprecations"
     ]
    }
   ],
   "source": [
    "from boruta import BorutaPy\n",
    "from sklearn.ensemble import RandomForestRegressor\n",
    "import numpy as np\n",
    "###initialize Boruta\n",
    "forest = RandomForestRegressor(\n",
    "   n_jobs = -1, \n",
    "   max_depth = 5\n",
    ")\n",
    "boruta = BorutaPy(\n",
    "   estimator = forest, \n",
    "   n_estimators = 'auto',\n",
    "   max_iter = 100 # number of trials to perform\n",
    ")\n",
    "### fit Boruta (it accepts np.array, not pd.DataFrame)\n",
    "boruta.fit(np.array(X), np.array(y))\n",
    "### print results\n",
    "green_area = X.columns[boruta.support_].to_list()\n",
    "blue_area = X.columns[boruta.support_weak_].to_list()\n",
    "print('features in the green area:', green_area)\n",
    "print('features in the blue area:', blue_area)"
   ]
  },
  {
   "cell_type": "code",
   "execution_count": null,
   "id": "f83a3994",
   "metadata": {},
   "outputs": [],
   "source": []
  }
 ],
 "metadata": {
  "kernelspec": {
   "display_name": "Python 3 (ipykernel)",
   "language": "python",
   "name": "python3"
  },
  "language_info": {
   "codemirror_mode": {
    "name": "ipython",
    "version": 3
   },
   "file_extension": ".py",
   "mimetype": "text/x-python",
   "name": "python",
   "nbconvert_exporter": "python",
   "pygments_lexer": "ipython3",
   "version": "3.9.9"
  }
 },
 "nbformat": 4,
 "nbformat_minor": 5
}
